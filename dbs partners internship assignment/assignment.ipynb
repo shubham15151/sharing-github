{
 "cells": [
  {
   "cell_type": "code",
   "execution_count": 1,
   "metadata": {},
   "outputs": [],
   "source": [
    "import os\n",
    "from collections import Counter\n",
    "import pandas as pd\n",
    "import numpy as np\n",
    "direc = r'contracts/'"
   ]
  },
  {
   "cell_type": "code",
   "execution_count": 2,
   "metadata": {},
   "outputs": [],
   "source": [
    "files = os.listdir(direc)\n",
    "contracts_ = [direc + mail for mail in files]\n",
    "word = []\n",
    "c = len(contracts_)\n",
    "for contract in contracts_:\n",
    "    f = open(contract , encoding=\"iso8859_1\")\n",
    "    blob = f.read()\n",
    "    word += blob.split(' ')\n",
    "for i in range(len(word)):\n",
    "    if not word[i].isalpha():\n",
    "        word[i] = ''\n",
    "        \n",
    "dictionary  = Counter(word)\n",
    "del dictionary['']\n"
   ]
  },
  {
   "cell_type": "code",
   "execution_count": 3,
   "metadata": {},
   "outputs": [],
   "source": [
    "def make_dataset(dictionary):\n",
    "    direc = r'contracts/'\n",
    "    files = os.listdir(direc)\n",
    "    contracts_ = [direc + email for email in files]\n",
    "    feature_set = []\n",
    "    labels = []\n",
    "    file_ = []\n",
    "    c = len(contracts_)\n",
    "\n",
    "    for contract in contracts_:\n",
    "        data = []\n",
    "        f = open(contract, encoding=\"iso8859_1\")\n",
    "        file_.append(contract)\n",
    "        words = f.read().split(' ')\n",
    "        for entry in dictionary:\n",
    "            data.append(words.count(entry[0]))\n",
    "        feature_set.append(data)\n",
    "\n",
    "        if \"AMENDMENT TO EMPLOYMENT AGREEMENT\" in contract:\n",
    "            labels.append(0)\n",
    "        else:\n",
    "            labels.append(1)\n",
    "    return feature_set, labels , file_"
   ]
  },
  {
   "cell_type": "code",
   "execution_count": 4,
   "metadata": {},
   "outputs": [],
   "source": [
    "d = dictionary\n",
    "a,b,c = make_dataset(d)\n",
    "features , labels = a,b\n",
    "df_ = {'file':c,'label':labels}\n",
    "df = pd.DataFrame(df_)\n",
    "df.drop(df.tail(2).index,inplace=True)"
   ]
  },
  {
   "cell_type": "code",
   "execution_count": 5,
   "metadata": {},
   "outputs": [
    {
     "data": {
      "text/html": [
       "<div>\n",
       "<style scoped>\n",
       "    .dataframe tbody tr th:only-of-type {\n",
       "        vertical-align: middle;\n",
       "    }\n",
       "\n",
       "    .dataframe tbody tr th {\n",
       "        vertical-align: top;\n",
       "    }\n",
       "\n",
       "    .dataframe thead th {\n",
       "        text-align: right;\n",
       "    }\n",
       "</style>\n",
       "<table border=\"1\" class=\"dataframe\">\n",
       "  <thead>\n",
       "    <tr style=\"text-align: right;\">\n",
       "      <th></th>\n",
       "      <th>file</th>\n",
       "      <th>label</th>\n",
       "    </tr>\n",
       "  </thead>\n",
       "  <tbody>\n",
       "    <tr>\n",
       "      <th>996</th>\n",
       "      <td>contracts/948846_2004-10-29_LEONARD EMPLOYMENT...</td>\n",
       "      <td>1</td>\n",
       "    </tr>\n",
       "    <tr>\n",
       "      <th>997</th>\n",
       "      <td>contracts/948850_2003-04-25_EMPLOYMENT AGREEME...</td>\n",
       "      <td>1</td>\n",
       "    </tr>\n",
       "    <tr>\n",
       "      <th>998</th>\n",
       "      <td>contracts/949874_2011-01-05_AMENDMENT TO EMPLO...</td>\n",
       "      <td>0</td>\n",
       "    </tr>\n",
       "    <tr>\n",
       "      <th>999</th>\n",
       "      <td>contracts/949874_2011-05-13_AMENDMENT TO DANIE...</td>\n",
       "      <td>1</td>\n",
       "    </tr>\n",
       "    <tr>\n",
       "      <th>1000</th>\n",
       "      <td>contracts/contracts - Shortcut.lnk</td>\n",
       "      <td>1</td>\n",
       "    </tr>\n",
       "  </tbody>\n",
       "</table>\n",
       "</div>"
      ],
      "text/plain": [
       "                                                   file  label\n",
       "996   contracts/948846_2004-10-29_LEONARD EMPLOYMENT...      1\n",
       "997   contracts/948850_2003-04-25_EMPLOYMENT AGREEME...      1\n",
       "998   contracts/949874_2011-01-05_AMENDMENT TO EMPLO...      0\n",
       "999   contracts/949874_2011-05-13_AMENDMENT TO DANIE...      1\n",
       "1000                 contracts/contracts - Shortcut.lnk      1"
      ]
     },
     "execution_count": 5,
     "metadata": {},
     "output_type": "execute_result"
    }
   ],
   "source": [
    "df.tail()"
   ]
  },
  {
   "cell_type": "code",
   "execution_count": 6,
   "metadata": {},
   "outputs": [],
   "source": [
    "from sklearn.model_selection import train_test_split\n",
    "\n",
    "\n",
    "X_train, X_test, y_train, y_test = train_test_split(df['file'], \n",
    "                                                    df['label'], \n",
    "                                                    random_state=0)"
   ]
  },
  {
   "cell_type": "code",
   "execution_count": 7,
   "metadata": {},
   "outputs": [],
   "source": [
    "def add_feature(X, feature_to_add):\n",
    "    from scipy.sparse import csr_matrix, hstack\n",
    "    return hstack([X, csr_matrix(feature_to_add).T], 'csr')"
   ]
  },
  {
   "cell_type": "code",
   "execution_count": 8,
   "metadata": {},
   "outputs": [
    {
     "data": {
      "text/plain": [
       "0.9812254650964329"
      ]
     },
     "execution_count": 8,
     "metadata": {},
     "output_type": "execute_result"
    }
   ],
   "source": [
    "from sklearn.linear_model import LogisticRegression\n",
    "from sklearn.feature_extraction.text import TfidfVectorizer\n",
    "from sklearn.metrics import roc_auc_score\n",
    "from sklearn.feature_extraction.text import CountVectorizer\n",
    "import operator\n",
    "from nltk.stem import WordNetLemmatizer\n",
    "\n",
    "lemmatizer = WordNetLemmatizer()\n",
    "vectorizer = TfidfVectorizer()\n",
    "vectorizer = TfidfVectorizer(min_df=10, ngram_range=[1,3])\n",
    "X_train_transformed = vectorizer.fit_transform(X_train)\n",
    "X_train_transformed_with_length = add_feature(X_train_transformed, [X_train.str.len(),\n",
    "                                                                        X_train.apply(lambda x: len(''.join([a for a in x if a.isdigit()])))])\n",
    "X_test_transformed = vectorizer.transform(X_test)\n",
    "X_test_transformed_with_length = add_feature(X_test_transformed, [X_test.str.len(),\n",
    "                                                                      X_test.apply(lambda x: len(''.join([a for a in x if a.isdigit()])))])\n",
    "\n",
    "clf = LogisticRegression(C=100)\n",
    "\n",
    "clf.fit(X_train_transformed_with_length, y_train)\n",
    "\n",
    "y_predicted = clf.predict(X_test_transformed_with_length)\n",
    "roc_auc_score(y_test, y_predicted)"
   ]
  },
  {
   "cell_type": "code",
   "execution_count": 9,
   "metadata": {},
   "outputs": [],
   "source": [
    "#df = df['file'][df['label'] == 1]\n",
    "\n",
    "X_test_transformed = vectorizer.transform(df['file'])\n",
    "X_test_transformed_with_length1 = add_feature(X_test_transformed, [df['file'].str.len(),\n",
    "                                                                      df['file'].apply(lambda x: len(''.join([a for a in x if a.isdigit()])))])"
   ]
  },
  {
   "cell_type": "code",
   "execution_count": 10,
   "metadata": {},
   "outputs": [],
   "source": [
    "y_predict_ = clf.predict(X_test_transformed_with_length1)"
   ]
  },
  {
   "cell_type": "code",
   "execution_count": 11,
   "metadata": {},
   "outputs": [
    {
     "data": {
      "text/plain": [
       "array([0, 0, 0, ..., 0, 1, 1], dtype=int64)"
      ]
     },
     "execution_count": 11,
     "metadata": {},
     "output_type": "execute_result"
    }
   ],
   "source": [
    "y_predict_"
   ]
  },
  {
   "cell_type": "code",
   "execution_count": 12,
   "metadata": {},
   "outputs": [
    {
     "data": {
      "text/html": [
       "<div>\n",
       "<style scoped>\n",
       "    .dataframe tbody tr th:only-of-type {\n",
       "        vertical-align: middle;\n",
       "    }\n",
       "\n",
       "    .dataframe tbody tr th {\n",
       "        vertical-align: top;\n",
       "    }\n",
       "\n",
       "    .dataframe thead th {\n",
       "        text-align: right;\n",
       "    }\n",
       "</style>\n",
       "<table border=\"1\" class=\"dataframe\">\n",
       "  <thead>\n",
       "    <tr style=\"text-align: right;\">\n",
       "      <th></th>\n",
       "      <th>file</th>\n",
       "      <th>label</th>\n",
       "      <th>y_predict</th>\n",
       "    </tr>\n",
       "  </thead>\n",
       "  <tbody>\n",
       "    <tr>\n",
       "      <th>0</th>\n",
       "      <td>contracts/1000736_2005-05-10_AMENDMENT TO EMPL...</td>\n",
       "      <td>0</td>\n",
       "      <td>0</td>\n",
       "    </tr>\n",
       "    <tr>\n",
       "      <th>1</th>\n",
       "      <td>contracts/1001250_2013-02-27_AMENDMENT TO EMPL...</td>\n",
       "      <td>0</td>\n",
       "      <td>0</td>\n",
       "    </tr>\n",
       "    <tr>\n",
       "      <th>2</th>\n",
       "      <td>contracts/1001250_2013-02-27_AMENDMENT TO EMPL...</td>\n",
       "      <td>0</td>\n",
       "      <td>0</td>\n",
       "    </tr>\n",
       "    <tr>\n",
       "      <th>3</th>\n",
       "      <td>contracts/1001250_2013-02-27_AMENDMENT TO EMPL...</td>\n",
       "      <td>0</td>\n",
       "      <td>0</td>\n",
       "    </tr>\n",
       "    <tr>\n",
       "      <th>4</th>\n",
       "      <td>contracts/1001425_1999-05-14_DOUGLAS REED EMPL...</td>\n",
       "      <td>1</td>\n",
       "      <td>1</td>\n",
       "    </tr>\n",
       "  </tbody>\n",
       "</table>\n",
       "</div>"
      ],
      "text/plain": [
       "                                                file  label  y_predict\n",
       "0  contracts/1000736_2005-05-10_AMENDMENT TO EMPL...      0          0\n",
       "1  contracts/1001250_2013-02-27_AMENDMENT TO EMPL...      0          0\n",
       "2  contracts/1001250_2013-02-27_AMENDMENT TO EMPL...      0          0\n",
       "3  contracts/1001250_2013-02-27_AMENDMENT TO EMPL...      0          0\n",
       "4  contracts/1001425_1999-05-14_DOUGLAS REED EMPL...      1          1"
      ]
     },
     "execution_count": 12,
     "metadata": {},
     "output_type": "execute_result"
    }
   ],
   "source": [
    "df['y_predict'] = y_predict_\n",
    "df.head()"
   ]
  },
  {
   "cell_type": "code",
   "execution_count": 13,
   "metadata": {},
   "outputs": [],
   "source": [
    "df1 = df.loc[df['y_predict'] == 1]"
   ]
  },
  {
   "cell_type": "code",
   "execution_count": 14,
   "metadata": {},
   "outputs": [],
   "source": [
    "df1 = df1.drop('label',axis = 1)"
   ]
  },
  {
   "cell_type": "code",
   "execution_count": 15,
   "metadata": {},
   "outputs": [],
   "source": [
    "df1.reset_index(inplace = True)"
   ]
  },
  {
   "cell_type": "code",
   "execution_count": 30,
   "metadata": {},
   "outputs": [
    {
     "data": {
      "text/plain": [
       "'contracts/100493_2005-02-09_TYSON FOODS, INC. SECOND AMENDMENT TO BOND EMPLOYMENT AGREEMENT.txt'"
      ]
     },
     "execution_count": 30,
     "metadata": {},
     "output_type": "execute_result"
    }
   ],
   "source": [
    "df1.file[17]"
   ]
  },
  {
   "cell_type": "code",
   "execution_count": 60,
   "metadata": {},
   "outputs": [],
   "source": [
    "import glob\n",
    "import os\n",
    "\n",
    "x = glob.glob('contracts/*.txt')\n"
   ]
  },
  {
   "cell_type": "code",
   "execution_count": 92,
   "metadata": {},
   "outputs": [],
   "source": [
    "c1 = []\n",
    "i = 0\n",
    "for file in x:\n",
    "    f = open(file,encoding=\"utf8\")\n",
    "    blob = f.read()\n",
    "    c1.append(blob)\n"
   ]
  },
  {
   "cell_type": "code",
   "execution_count": 93,
   "metadata": {},
   "outputs": [],
   "source": [
    "import spacy\n",
    "nlp = spacy.load('en')"
   ]
  },
  {
   "cell_type": "code",
   "execution_count": 94,
   "metadata": {},
   "outputs": [],
   "source": [
    "test1 = re.sub(r'\\([^)]*\\)', '', c[0])\n",
    "test2 = ' '.join(test1.split())"
   ]
  },
  {
   "cell_type": "code",
   "execution_count": 95,
   "metadata": {},
   "outputs": [],
   "source": [
    "import re\n",
    "test3 = re.sub('[!@#/$]', '', test2)\n"
   ]
  },
  {
   "cell_type": "code",
   "execution_count": 96,
   "metadata": {},
   "outputs": [],
   "source": [
    "text1 = nlp(test3)\n"
   ]
  },
  {
   "cell_type": "code",
   "execution_count": 97,
   "metadata": {},
   "outputs": [
    {
     "name": "stdout",
     "output_type": "stream",
     "text": [
      "GPE Amendment\n",
      "ORGANIZATION Employment\n",
      "ORGANIZATION AMENDMENT\n",
      "PERSON Caremark Rx\n",
      "ORGANIZATION Delaware Corporation\n",
      "PERSON Richard Scardina\n",
      "PERSON Burr Ridge\n",
      "GPE Illinois\n",
      "GPE WHEREAS\n",
      "PERSON Employer\n",
      "PERSON Officer\n",
      "PERSON Employer\n",
      "ORGANIZATION Senior\n",
      "ORGANIZATION WHEREAS\n",
      "PERSON Employer\n",
      "ORGANIZATION Executive\n",
      "ORGANIZATION WHEREAS\n",
      "ORGANIZATION Parties\n",
      "ORGANIZATION Employment\n",
      "PERSON Executive\n",
      "ORGANIZATION THEREFORE\n",
      "ORGANIZATION Employment Agreement\n",
      "PERSON Officer\n",
      "PERSON Executive\n",
      "ORGANIZATION Employment\n",
      "GPE Employer\n",
      "ORGANIZATION Employment Agreement\n",
      "PERSON Officer\n",
      "PERSON Executive\n",
      "GPE Operations\n",
      "GPE Chicago\n",
      "ORGANIZATION Employer\n",
      "ORGANIZATION Employer\n",
      "GPE Subsection\n",
      "ORGANIZATION Employment\n",
      "ORGANIZATION Term\n",
      "PERSON Officer\n",
      "GPE Employer\n",
      "PERSON Base Salary\n",
      "ORGANIZATION Employer\n",
      "PERSON Officer\n",
      "PERSON Officer\n",
      "ORGANIZATION Employer\n",
      "GPE Employer\n",
      "ORGANIZATION Employment\n",
      "ORGANIZATION Amendment\n",
      "PERSON Caremark Rx\n",
      "PERSON Richard Scardina\n",
      "PERSON Richard Scardina Chairman\n"
     ]
    }
   ],
   "source": [
    "import nltk\n",
    "for sent in nltk.sent_tokenize(c[0]):\n",
    "   for chunk in nltk.ne_chunk(nltk.pos_tag(nltk.word_tokenize(sent))):\n",
    "      if hasattr(chunk, 'label'):\n",
    "         print(chunk.label(), ' '.join(c[0] for c in chunk))"
   ]
  },
  {
   "cell_type": "code",
   "execution_count": null,
   "metadata": {},
   "outputs": [],
   "source": []
  },
  {
   "cell_type": "code",
   "execution_count": null,
   "metadata": {},
   "outputs": [],
   "source": []
  }
 ],
 "metadata": {
  "kernelspec": {
   "display_name": "Python 3",
   "language": "python",
   "name": "python3"
  },
  "language_info": {
   "codemirror_mode": {
    "name": "ipython",
    "version": 3
   },
   "file_extension": ".py",
   "mimetype": "text/x-python",
   "name": "python",
   "nbconvert_exporter": "python",
   "pygments_lexer": "ipython3",
   "version": "3.6.4"
  }
 },
 "nbformat": 4,
 "nbformat_minor": 2
}
